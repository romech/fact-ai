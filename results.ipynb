{
 "cells": [
  {
   "cell_type": "markdown",
   "metadata": {},
   "source": [
    "# Interpretable Complex-Valued Neural Networks for Privacy Protection\n",
    "\n",
    "[[GitHub](https://github.com/romech/fact-ai)] [[Original Paper](https://iclr.cc/virtual/poster_S1xFl64tDr.html)]"
   ]
  },
  {
   "cell_type": "markdown",
   "metadata": {
    "id": "-OMIPzMyIYoz"
   },
   "source": [
    "## Contents\n",
    "1. Classification Experiments\n",
    "2. Inversion Attacks\n",
    "3. Inference Attacks\n",
    "\n"
   ]
  },
  {
   "cell_type": "markdown",
   "metadata": {},
   "source": [
    "## Setup"
   ]
  },
  {
   "cell_type": "code",
   "execution_count": 114,
   "metadata": {},
   "outputs": [],
   "source": [
    "import pandas as pd\n",
    "import pytorch_lightning as pl\n",
    "import torch\n",
    "from src.dataset import CIFAR10DataModule, CIFAR100DataModule, CIFAR100Super\n",
    "from src.model_classifier import BaselineModel, ComplexModel\n",
    "from src.model_inversion_attack import AngleInversionModel, FeatureInversionAngleModel, FeatureInversionModel\n",
    "from src.model_inference_attack import InferenceAttack1Model, InferenceAttack2Model, InferenceAttack3Model\n",
    "import os\n",
    "from collections import defaultdict, OrderedDict\n",
    "import re\n",
    "import matplotlib.pyplot as plt\n",
    "import numpy as np\n",
    "import seaborn as sns\n",
    "sns.set()\n",
    "from eval_utils import *"
   ]
  },
  {
   "cell_type": "code",
   "execution_count": 2,
   "metadata": {},
   "outputs": [
    {
     "name": "stderr",
     "output_type": "stream",
     "text": [
      "GPU available: True, used: True\n",
      "TPU available: False, using: 0 TPU cores\n",
      "LOCAL_RANK: 0 - CUDA_VISIBLE_DEVICES: [0]\n"
     ]
    }
   ],
   "source": [
    "trainer = pl.Trainer(gpus=int(torch.cuda.is_available()), progress_bar_refresh_rate=0, weights_summary=False, \n",
    "                     benchmark=True, logger=False, checkpoint_callback=False)"
   ]
  },
  {
   "cell_type": "code",
   "execution_count": 43,
   "metadata": {},
   "outputs": [],
   "source": [
    "data_path = \"data\""
   ]
  },
  {
   "cell_type": "code",
   "execution_count": 11,
   "metadata": {},
   "outputs": [],
   "source": [
    "datamodules = {\n",
    "    \"CIFAR-10\": CIFAR10DataModule(128, data_path, 0),\n",
    "    \"CIFAR-100\": CIFAR100DataModule(128, data_path, 0),\n",
    "    \"CIFAR-100 Super\": CIFAR100DataModule(128, data_path, 0, superclass=True)\n",
    "}"
   ]
  },
  {
   "cell_type": "markdown",
   "metadata": {},
   "source": [
    "## 1 Classification Experiments"
   ]
  },
  {
   "cell_type": "markdown",
   "metadata": {},
   "source": [
    "### 1.1 ResNets on CIFAR-10 (Table 1)"
   ]
  },
  {
   "cell_type": "code",
   "execution_count": 7,
   "metadata": {},
   "outputs": [],
   "source": [
    "%%capture\n",
    "results = defaultdict(OrderedDict)\n",
    "\n",
    "for arch, experiments in resnet_classification_experiments.items():\n",
    "    for e, file in experiments.items():\n",
    "        pl.seed_everything(0)\n",
    "        if e == \"Complex\":\n",
    "            model = ComplexModel.load_from_checkpoint(os.path.join(classification_path, file))\n",
    "        else:\n",
    "            model = BaselineModel.load_from_checkpoint(os.path.join(classification_path, file))\n",
    "            \n",
    "        out = trainer.test(model, datamodule=datamodules[\"CIFAR-10\"])\n",
    "        \n",
    "        results[arch][e] = round((1 - out[0]['test_acc']) * 100, 2)"
   ]
  },
  {
   "cell_type": "code",
   "execution_count": 8,
   "metadata": {},
   "outputs": [
    {
     "name": "stdout",
     "output_type": "stream",
     "text": [
      "CLASSIFICATION ERROR RATES\n"
     ]
    },
    {
     "data": {
      "text/html": [
       "<div>\n",
       "<style scoped>\n",
       "    .dataframe tbody tr th:only-of-type {\n",
       "        vertical-align: middle;\n",
       "    }\n",
       "\n",
       "    .dataframe tbody tr th {\n",
       "        vertical-align: top;\n",
       "    }\n",
       "\n",
       "    .dataframe thead th {\n",
       "        text-align: right;\n",
       "    }\n",
       "</style>\n",
       "<table border=\"1\" class=\"dataframe\">\n",
       "  <thead>\n",
       "    <tr style=\"text-align: right;\">\n",
       "      <th></th>\n",
       "      <th>Original</th>\n",
       "      <th>Additional</th>\n",
       "      <th>Complex</th>\n",
       "    </tr>\n",
       "  </thead>\n",
       "  <tbody>\n",
       "    <tr>\n",
       "      <th>ResNet-20-a</th>\n",
       "      <td>7.77</td>\n",
       "      <td>9.06</td>\n",
       "      <td>11.88</td>\n",
       "    </tr>\n",
       "    <tr>\n",
       "      <th>ResNet-20-b</th>\n",
       "      <td>8.03</td>\n",
       "      <td>8.30</td>\n",
       "      <td>13.13</td>\n",
       "    </tr>\n",
       "    <tr>\n",
       "      <th>ResNet-32-a</th>\n",
       "      <td>7.27</td>\n",
       "      <td>8.95</td>\n",
       "      <td>11.27</td>\n",
       "    </tr>\n",
       "    <tr>\n",
       "      <th>ResNet-32-b</th>\n",
       "      <td>7.22</td>\n",
       "      <td>8.88</td>\n",
       "      <td>10.56</td>\n",
       "    </tr>\n",
       "    <tr>\n",
       "      <th>ResNet-44-a</th>\n",
       "      <td>6.57</td>\n",
       "      <td>9.32</td>\n",
       "      <td>10.02</td>\n",
       "    </tr>\n",
       "    <tr>\n",
       "      <th>ResNet-44-b</th>\n",
       "      <td>7.31</td>\n",
       "      <td>8.84</td>\n",
       "      <td>10.14</td>\n",
       "    </tr>\n",
       "    <tr>\n",
       "      <th>ResNet-56-a</th>\n",
       "      <td>7.19</td>\n",
       "      <td>8.45</td>\n",
       "      <td>10.03</td>\n",
       "    </tr>\n",
       "    <tr>\n",
       "      <th>ResNet-56-b</th>\n",
       "      <td>6.89</td>\n",
       "      <td>8.27</td>\n",
       "      <td>9.78</td>\n",
       "    </tr>\n",
       "  </tbody>\n",
       "</table>\n",
       "</div>"
      ],
      "text/plain": [
       "             Original  Additional  Complex\n",
       "ResNet-20-a      7.77        9.06    11.88\n",
       "ResNet-20-b      8.03        8.30    13.13\n",
       "ResNet-32-a      7.27        8.95    11.27\n",
       "ResNet-32-b      7.22        8.88    10.56\n",
       "ResNet-44-a      6.57        9.32    10.02\n",
       "ResNet-44-b      7.31        8.84    10.14\n",
       "ResNet-56-a      7.19        8.45    10.03\n",
       "ResNet-56-b      6.89        8.27     9.78"
      ]
     },
     "execution_count": 8,
     "metadata": {},
     "output_type": "execute_result"
    }
   ],
   "source": [
    "print('CLASSIFICATION ERROR RATES')\n",
    "pd.DataFrame(results).T"
   ]
  },
  {
   "cell_type": "markdown",
   "metadata": {},
   "source": [
    "### 1.2 ResNet-56 + LeNet on CIFAR-10 and CIFAR-100 (Table 2)"
   ]
  },
  {
   "cell_type": "code",
   "execution_count": 27,
   "metadata": {},
   "outputs": [],
   "source": [
    "%%capture\n",
    "results = defaultdict(OrderedDict)\n",
    "\n",
    "for (arch, ds), experiments in mixed_classification_experiments.items():\n",
    "    for e, file in experiments.items():\n",
    "        pl.seed_everything(0)\n",
    "        if e == \"Complex\":\n",
    "            model = ComplexModel.load_from_checkpoint(os.path.join(classification_path, file))\n",
    "        else:\n",
    "            model = BaselineModel.load_from_checkpoint(os.path.join(classification_path, file))\n",
    "            \n",
    "        out = trainer.test(model, datamodule=datamodules[ds])\n",
    "        \n",
    "        results[(arch, ds)][e] = round((1 - out[0]['test_acc']) * 100, 2)"
   ]
  },
  {
   "cell_type": "code",
   "execution_count": 33,
   "metadata": {},
   "outputs": [
    {
     "name": "stdout",
     "output_type": "stream",
     "text": [
      "CLASSIFICATION ERROR RATES\n"
     ]
    },
    {
     "data": {
      "text/html": [
       "<div>\n",
       "<style scoped>\n",
       "    .dataframe tbody tr th:only-of-type {\n",
       "        vertical-align: middle;\n",
       "    }\n",
       "\n",
       "    .dataframe tbody tr th {\n",
       "        vertical-align: top;\n",
       "    }\n",
       "\n",
       "    .dataframe thead th {\n",
       "        text-align: right;\n",
       "    }\n",
       "</style>\n",
       "<table border=\"1\" class=\"dataframe\">\n",
       "  <thead>\n",
       "    <tr style=\"text-align: right;\">\n",
       "      <th></th>\n",
       "      <th></th>\n",
       "      <th>Original</th>\n",
       "      <th>Additional</th>\n",
       "      <th>Noisy (gamma = 0.2)</th>\n",
       "      <th>Noisy (gamma = 0.5)</th>\n",
       "      <th>Noisy (gamma = 1.0)</th>\n",
       "      <th>Complex</th>\n",
       "    </tr>\n",
       "  </thead>\n",
       "  <tbody>\n",
       "    <tr>\n",
       "      <th rowspan=\"2\" valign=\"top\">LeNet</th>\n",
       "      <th>CIFAR-10</th>\n",
       "      <td>26.09</td>\n",
       "      <td>26.38</td>\n",
       "      <td>26.73</td>\n",
       "      <td>29.17</td>\n",
       "      <td>34.98</td>\n",
       "      <td>33.84</td>\n",
       "    </tr>\n",
       "    <tr>\n",
       "      <th>CIFAR-100</th>\n",
       "      <td>60.89</td>\n",
       "      <td>60.34</td>\n",
       "      <td>61.55</td>\n",
       "      <td>64.69</td>\n",
       "      <td>66.83</td>\n",
       "      <td>74.32</td>\n",
       "    </tr>\n",
       "    <tr>\n",
       "      <th>ResNet-56-a</th>\n",
       "      <th>CIFAR-100</th>\n",
       "      <td>32.20</td>\n",
       "      <td>32.46</td>\n",
       "      <td>32.67</td>\n",
       "      <td>33.58</td>\n",
       "      <td>33.91</td>\n",
       "      <td>35.30</td>\n",
       "    </tr>\n",
       "  </tbody>\n",
       "</table>\n",
       "</div>"
      ],
      "text/plain": [
       "                       Original  Additional  Noisy (gamma = 0.2)  \\\n",
       "LeNet       CIFAR-10      26.09       26.38                26.73   \n",
       "            CIFAR-100     60.89       60.34                61.55   \n",
       "ResNet-56-a CIFAR-100     32.20       32.46                32.67   \n",
       "\n",
       "                       Noisy (gamma = 0.5)  Noisy (gamma = 1.0)  Complex  \n",
       "LeNet       CIFAR-10                 29.17                34.98    33.84  \n",
       "            CIFAR-100                64.69                66.83    74.32  \n",
       "ResNet-56-a CIFAR-100                33.58                33.91    35.30  "
      ]
     },
     "execution_count": 33,
     "metadata": {},
     "output_type": "execute_result"
    }
   ],
   "source": [
    "print('CLASSIFICATION ERROR RATES')\n",
    "pd.DataFrame(results).T"
   ]
  },
  {
   "cell_type": "markdown",
   "metadata": {},
   "source": [
    "## 2 Inversion Attacks"
   ]
  },
  {
   "cell_type": "markdown",
   "metadata": {},
   "source": [
    "### 2.1 Angle Estimation on CIFAR-10 (Table 3)"
   ]
  },
  {
   "cell_type": "code",
   "execution_count": 44,
   "metadata": {},
   "outputs": [],
   "source": [
    "%%capture\n",
    "results = defaultdict(OrderedDict)\n",
    "\n",
    "for (arch, ds), file in angle_estimation_experiments.items():\n",
    "    pl.seed_everything(0)\n",
    "    model = AngleInversionModel.load_from_checkpoint(os.path.join(angle_estimation_path, file))\n",
    "\n",
    "    out = trainer.test(model, datamodule=datamodules[ds])\n",
    "        \n",
    "    results[(arch, ds)][\"MAE\"] = round(out[0]['test_mae'], 4)"
   ]
  },
  {
   "cell_type": "code",
   "execution_count": 45,
   "metadata": {},
   "outputs": [
    {
     "name": "stdout",
     "output_type": "stream",
     "text": [
      "CLASSIFICATION ERROR RATES\n"
     ]
    },
    {
     "data": {
      "text/html": [
       "<div>\n",
       "<style scoped>\n",
       "    .dataframe tbody tr th:only-of-type {\n",
       "        vertical-align: middle;\n",
       "    }\n",
       "\n",
       "    .dataframe tbody tr th {\n",
       "        vertical-align: top;\n",
       "    }\n",
       "\n",
       "    .dataframe thead th {\n",
       "        text-align: right;\n",
       "    }\n",
       "</style>\n",
       "<table border=\"1\" class=\"dataframe\">\n",
       "  <thead>\n",
       "    <tr style=\"text-align: right;\">\n",
       "      <th></th>\n",
       "      <th></th>\n",
       "      <th>MAE</th>\n",
       "    </tr>\n",
       "  </thead>\n",
       "  <tbody>\n",
       "    <tr>\n",
       "      <th>ResNet-20-a</th>\n",
       "      <th>CIFAR-10</th>\n",
       "      <td>0.0842</td>\n",
       "    </tr>\n",
       "    <tr>\n",
       "      <th>ResNet-20-b</th>\n",
       "      <th>CIFAR-10</th>\n",
       "      <td>0.0884</td>\n",
       "    </tr>\n",
       "    <tr>\n",
       "      <th>ResNet-32-a</th>\n",
       "      <th>CIFAR-10</th>\n",
       "      <td>0.0875</td>\n",
       "    </tr>\n",
       "    <tr>\n",
       "      <th>ResNet-32-b</th>\n",
       "      <th>CIFAR-10</th>\n",
       "      <td>0.0874</td>\n",
       "    </tr>\n",
       "    <tr>\n",
       "      <th>ResNet-44-a</th>\n",
       "      <th>CIFAR-10</th>\n",
       "      <td>0.0817</td>\n",
       "    </tr>\n",
       "    <tr>\n",
       "      <th>ResNet-44-b</th>\n",
       "      <th>CIFAR-10</th>\n",
       "      <td>0.0895</td>\n",
       "    </tr>\n",
       "    <tr>\n",
       "      <th>ResNet-56-a</th>\n",
       "      <th>CIFAR-10</th>\n",
       "      <td>0.0839</td>\n",
       "    </tr>\n",
       "    <tr>\n",
       "      <th>ResNet-56-b</th>\n",
       "      <th>CIFAR-10</th>\n",
       "      <td>0.0846</td>\n",
       "    </tr>\n",
       "    <tr>\n",
       "      <th rowspan=\"2\" valign=\"top\">LeNet</th>\n",
       "      <th>CIFAR-10</th>\n",
       "      <td>0.2371</td>\n",
       "    </tr>\n",
       "    <tr>\n",
       "      <th>CIFAR-100</th>\n",
       "      <td>0.3178</td>\n",
       "    </tr>\n",
       "    <tr>\n",
       "      <th>ResNet-56-a</th>\n",
       "      <th>CIFAR-100</th>\n",
       "      <td>0.0812</td>\n",
       "    </tr>\n",
       "  </tbody>\n",
       "</table>\n",
       "</div>"
      ],
      "text/plain": [
       "                          MAE\n",
       "ResNet-20-a CIFAR-10   0.0842\n",
       "ResNet-20-b CIFAR-10   0.0884\n",
       "ResNet-32-a CIFAR-10   0.0875\n",
       "ResNet-32-b CIFAR-10   0.0874\n",
       "ResNet-44-a CIFAR-10   0.0817\n",
       "ResNet-44-b CIFAR-10   0.0895\n",
       "ResNet-56-a CIFAR-10   0.0839\n",
       "ResNet-56-b CIFAR-10   0.0846\n",
       "LeNet       CIFAR-10   0.2371\n",
       "            CIFAR-100  0.3178\n",
       "ResNet-56-a CIFAR-100  0.0812"
      ]
     },
     "execution_count": 45,
     "metadata": {},
     "output_type": "execute_result"
    }
   ],
   "source": [
    "print('MAE')\n",
    "pd.DataFrame(results).T"
   ]
  },
  {
   "cell_type": "markdown",
   "metadata": {},
   "source": [
    "### 2.2 Reconstructing ResNet Inputs on CIFAR-10 (Table 4)"
   ]
  },
  {
   "cell_type": "code",
   "execution_count": 51,
   "metadata": {},
   "outputs": [],
   "source": [
    "%%capture\n",
    "results = defaultdict(OrderedDict)\n",
    "\n",
    "for arch, experiments in resnet_inversion_experiments.items():\n",
    "    for e, file in experiments.items():\n",
    "        pl.seed_everything(0)\n",
    "        if e == \"Complex dec(a*)\":\n",
    "            model = FeatureInversionAngleModel.load_from_checkpoint(os.path.join(inv_attack1_path, file))\n",
    "        else:\n",
    "            model = FeatureInversionModel.load_from_checkpoint(os.path.join(inv_attack2_path, file))\n",
    "            \n",
    "        out = trainer.test(model, datamodule=datamodules[\"CIFAR-10\"])\n",
    "        \n",
    "        results[arch][e] = round(out[0]['test_mae'], 4)"
   ]
  },
  {
   "cell_type": "code",
   "execution_count": 52,
   "metadata": {},
   "outputs": [
    {
     "name": "stdout",
     "output_type": "stream",
     "text": [
      "CLASSIFICATION ERROR RATES\n"
     ]
    },
    {
     "data": {
      "text/html": [
       "<div>\n",
       "<style scoped>\n",
       "    .dataframe tbody tr th:only-of-type {\n",
       "        vertical-align: middle;\n",
       "    }\n",
       "\n",
       "    .dataframe tbody tr th {\n",
       "        vertical-align: top;\n",
       "    }\n",
       "\n",
       "    .dataframe thead th {\n",
       "        text-align: right;\n",
       "    }\n",
       "</style>\n",
       "<table border=\"1\" class=\"dataframe\">\n",
       "  <thead>\n",
       "    <tr style=\"text-align: right;\">\n",
       "      <th></th>\n",
       "      <th>Original</th>\n",
       "      <th>Additional</th>\n",
       "      <th>Complex dec(a*)</th>\n",
       "      <th>Complex dec(x)</th>\n",
       "    </tr>\n",
       "  </thead>\n",
       "  <tbody>\n",
       "    <tr>\n",
       "      <th>ResNet-20-a</th>\n",
       "      <td>0.0750</td>\n",
       "      <td>0.1003</td>\n",
       "      <td>0.1904</td>\n",
       "      <td>0.2382</td>\n",
       "    </tr>\n",
       "    <tr>\n",
       "      <th>ResNet-20-b</th>\n",
       "      <td>0.0807</td>\n",
       "      <td>0.1009</td>\n",
       "      <td>0.2268</td>\n",
       "      <td>0.2865</td>\n",
       "    </tr>\n",
       "    <tr>\n",
       "      <th>ResNet-32-a</th>\n",
       "      <td>0.0927</td>\n",
       "      <td>0.1872</td>\n",
       "      <td>0.1931</td>\n",
       "      <td>0.2544</td>\n",
       "    </tr>\n",
       "    <tr>\n",
       "      <th>ResNet-32-b</th>\n",
       "      <td>0.0748</td>\n",
       "      <td>0.2201</td>\n",
       "      <td>0.2050</td>\n",
       "      <td>0.2678</td>\n",
       "    </tr>\n",
       "    <tr>\n",
       "      <th>ResNet-44-a</th>\n",
       "      <td>0.0735</td>\n",
       "      <td>0.2132</td>\n",
       "      <td>0.2219</td>\n",
       "      <td>0.2880</td>\n",
       "    </tr>\n",
       "    <tr>\n",
       "      <th>ResNet-44-b</th>\n",
       "      <td>0.0642</td>\n",
       "      <td>0.2192</td>\n",
       "      <td>0.2261</td>\n",
       "      <td>0.2994</td>\n",
       "    </tr>\n",
       "    <tr>\n",
       "      <th>ResNet-56-a</th>\n",
       "      <td>0.0581</td>\n",
       "      <td>0.0866</td>\n",
       "      <td>0.2092</td>\n",
       "      <td>0.2832</td>\n",
       "    </tr>\n",
       "    <tr>\n",
       "      <th>ResNet-56-b</th>\n",
       "      <td>0.0582</td>\n",
       "      <td>0.0935</td>\n",
       "      <td>0.2459</td>\n",
       "      <td>0.3413</td>\n",
       "    </tr>\n",
       "  </tbody>\n",
       "</table>\n",
       "</div>"
      ],
      "text/plain": [
       "             Original  Additional  Complex dec(a*)  Complex dec(x)\n",
       "ResNet-20-a    0.0750      0.1003           0.1904          0.2382\n",
       "ResNet-20-b    0.0807      0.1009           0.2268          0.2865\n",
       "ResNet-32-a    0.0927      0.1872           0.1931          0.2544\n",
       "ResNet-32-b    0.0748      0.2201           0.2050          0.2678\n",
       "ResNet-44-a    0.0735      0.2132           0.2219          0.2880\n",
       "ResNet-44-b    0.0642      0.2192           0.2261          0.2994\n",
       "ResNet-56-a    0.0581      0.0866           0.2092          0.2832\n",
       "ResNet-56-b    0.0582      0.0935           0.2459          0.3413"
      ]
     },
     "execution_count": 52,
     "metadata": {},
     "output_type": "execute_result"
    }
   ],
   "source": [
    "print('RECONSTRUCTION ERRORS')\n",
    "pd.DataFrame(results).T"
   ]
  },
  {
   "cell_type": "markdown",
   "metadata": {},
   "source": [
    "### 2.3 Reconstructing ResNet + LeNet Inputs on CIFAR-10 and CIFAR-100 (Table 5)"
   ]
  },
  {
   "cell_type": "code",
   "execution_count": 60,
   "metadata": {},
   "outputs": [],
   "source": [
    "%%capture\n",
    "results = defaultdict(OrderedDict)\n",
    "\n",
    "for (arch, ds), experiments in mixed_inversion_experiments.items():\n",
    "    for e, file in experiments.items():\n",
    "        pl.seed_everything(0)\n",
    "        if e == \"Complex dec(a*)\":\n",
    "            model = FeatureInversionAngleModel.load_from_checkpoint(os.path.join(inv_attack1_path, file))\n",
    "        else:\n",
    "            model = FeatureInversionModel.load_from_checkpoint(os.path.join(inv_attack2_path, file))\n",
    "            \n",
    "        out = trainer.test(model, datamodule=datamodules[ds])\n",
    "        \n",
    "        results[(arch, ds)][e] = round(out[0]['test_mae'], 4)"
   ]
  },
  {
   "cell_type": "code",
   "execution_count": 61,
   "metadata": {},
   "outputs": [
    {
     "name": "stdout",
     "output_type": "stream",
     "text": [
      "CLASSIFICATION ERROR RATES\n"
     ]
    },
    {
     "data": {
      "text/html": [
       "<div>\n",
       "<style scoped>\n",
       "    .dataframe tbody tr th:only-of-type {\n",
       "        vertical-align: middle;\n",
       "    }\n",
       "\n",
       "    .dataframe tbody tr th {\n",
       "        vertical-align: top;\n",
       "    }\n",
       "\n",
       "    .dataframe thead th {\n",
       "        text-align: right;\n",
       "    }\n",
       "</style>\n",
       "<table border=\"1\" class=\"dataframe\">\n",
       "  <thead>\n",
       "    <tr style=\"text-align: right;\">\n",
       "      <th></th>\n",
       "      <th></th>\n",
       "      <th>Original</th>\n",
       "      <th>Additional</th>\n",
       "      <th>Noisy (gamma = 0.2)</th>\n",
       "      <th>Noisy (gamma = 0.5)</th>\n",
       "      <th>Noisy (gamma = 1.0)</th>\n",
       "      <th>Complex dec(a*)</th>\n",
       "      <th>Complex dec(x)</th>\n",
       "    </tr>\n",
       "  </thead>\n",
       "  <tbody>\n",
       "    <tr>\n",
       "      <th rowspan=\"2\" valign=\"top\">LeNet</th>\n",
       "      <th>CIFAR-10</th>\n",
       "      <td>0.2070</td>\n",
       "      <td>0.2465</td>\n",
       "      <td>0.2108</td>\n",
       "      <td>0.2421</td>\n",
       "      <td>0.3637</td>\n",
       "      <td>0.4285</td>\n",
       "      <td>0.4423</td>\n",
       "    </tr>\n",
       "    <tr>\n",
       "      <th>CIFAR-100</th>\n",
       "      <td>0.1698</td>\n",
       "      <td>0.2374</td>\n",
       "      <td>0.2000</td>\n",
       "      <td>0.2042</td>\n",
       "      <td>0.2527</td>\n",
       "      <td>0.2836</td>\n",
       "      <td>0.2497</td>\n",
       "    </tr>\n",
       "    <tr>\n",
       "      <th>ResNet-56-a</th>\n",
       "      <th>CIFAR-100</th>\n",
       "      <td>0.0830</td>\n",
       "      <td>0.0955</td>\n",
       "      <td>0.1005</td>\n",
       "      <td>0.1280</td>\n",
       "      <td>0.1489</td>\n",
       "      <td>0.1517</td>\n",
       "      <td>0.2135</td>\n",
       "    </tr>\n",
       "  </tbody>\n",
       "</table>\n",
       "</div>"
      ],
      "text/plain": [
       "                       Original  Additional  Noisy (gamma = 0.2)  \\\n",
       "LeNet       CIFAR-10     0.2070      0.2465               0.2108   \n",
       "            CIFAR-100    0.1698      0.2374               0.2000   \n",
       "ResNet-56-a CIFAR-100    0.0830      0.0955               0.1005   \n",
       "\n",
       "                       Noisy (gamma = 0.5)  Noisy (gamma = 1.0)  \\\n",
       "LeNet       CIFAR-10                0.2421               0.3637   \n",
       "            CIFAR-100               0.2042               0.2527   \n",
       "ResNet-56-a CIFAR-100               0.1280               0.1489   \n",
       "\n",
       "                       Complex dec(a*)  Complex dec(x)  \n",
       "LeNet       CIFAR-10            0.4285          0.4423  \n",
       "            CIFAR-100           0.2836          0.2497  \n",
       "ResNet-56-a CIFAR-100           0.1517          0.2135  "
      ]
     },
     "execution_count": 61,
     "metadata": {},
     "output_type": "execute_result"
    }
   ],
   "source": [
    "print('RECONSTRUCTION ERROS')\n",
    "pd.DataFrame(results).T"
   ]
  },
  {
   "cell_type": "markdown",
   "metadata": {},
   "source": [
    "### 2.4 Visualization of reconstructed images"
   ]
  },
  {
   "cell_type": "code",
   "execution_count": null,
   "metadata": {},
   "outputs": [],
   "source": []
  },
  {
   "cell_type": "markdown",
   "metadata": {},
   "source": [
    "## 3 Inference Attacks"
   ]
  },
  {
   "cell_type": "markdown",
   "metadata": {},
   "source": [
    "### 3.1 Inference Attack 1 (Figure 1a)"
   ]
  },
  {
   "cell_type": "code",
   "execution_count": 65,
   "metadata": {},
   "outputs": [],
   "source": [
    "ckpt_files = [f for f in os.listdir(\"inference_attacks/resnet_56_attacker\") if \".ckpt\" in f]\n",
    "ckpt_files.sort(key=lambda x: int(re.findall(\"\\d+\", x)[0]))"
   ]
  },
  {
   "cell_type": "code",
   "execution_count": 67,
   "metadata": {},
   "outputs": [],
   "source": [
    "complex_history = []\n",
    "additional_history = []\n",
    "raw_history = []"
   ]
  },
  {
   "cell_type": "code",
   "execution_count": 69,
   "metadata": {},
   "outputs": [],
   "source": [
    "%%capture\n",
    "for f in ckpt_files:\n",
    "    pl.seed_everything(0)\n",
    "    complex_model = InferenceAttack1Model(os.path.join(\"inference_attacks/resnet_56_attacker\", f), \n",
    "                                          complex_prototype_file, complex_inv_model_file, \n",
    "                                          datamodules[\"CIFAR-100\"].dims, complex=True, \n",
    "                                          angle_dis_weights=angle_estimator_file)\n",
    "    complex_result = trainer.test(complex_model, datamodule=datamodules[\"CIFAR-100\"])\n",
    "    complex_history.append(complex_result[0][\"test_acc\"])\n",
    "    \n",
    "    pl.seed_everything(0)\n",
    "    additional_model = InferenceAttack1Model(os.path.join(\"inference_attacks/resnet_56_attacker\", f), \n",
    "                                             additional_prototype_file, additional_inv_model_file, \n",
    "                                             datamodules[\"CIFAR-100\"].dims)\n",
    "    additional_result = trainer.test(additional_model, datamodule=datamodules[\"CIFAR-100\"])\n",
    "    additional_history.append(additional_result[0][\"test_acc\"])\n",
    "    \n",
    "    pl.seed_everything(0)\n",
    "    raw_model = BaselineModel.load_from_checkpoint(os.path.join(\"inference_attacks/resnet_56_attacker\", f))\n",
    "    raw_result = trainer.test(raw_model, datamodule=datamodules[\"CIFAR-100\"])\n",
    "    raw_history.append(raw_result[0][\"test_acc\"])"
   ]
  },
  {
   "cell_type": "code",
   "execution_count": 72,
   "metadata": {},
   "outputs": [
    {
     "data": {
      "image/png": "[encoded data removed]",
      "text/plain": [
       "<Figure size 518.4x320.4 with 1 Axes>"
      ]
     },
     "metadata": {},
     "output_type": "display_data"
    }
   ],
   "source": [
    "plt.figure(figsize=(7.2, 4.45))\n",
    "plt.plot(np.arange(1, 201), 1 - np.array(raw_history), label=\"Inference Attack 1 + Raw Images\", linewidth=2, c=\"steelblue\")\n",
    "plt.plot(np.arange(1, 201), 1 - np.array(additional_history), label=\"Inference Attack 1 + Additional Layer\", linewidth=2, c=\"orange\")\n",
    "plt.plot(np.arange(1, 201), 1 - np.array(complex_history), label=\"Inference Attack 1 + Complex-Valued\", linewidth=2, c=\"green\")\n",
    "plt.xticks([0, 50, 100, 150, 200])\n",
    "plt.yticks([0.3, 0.4, 0.5, 0.6, 0.7, 0.8, 0.9])\n",
    "plt.xlabel(\"Epoch\")\n",
    "plt.ylabel(\"Testing Error\")\n",
    "plt.legend(frameon=False, loc=\"best\", fontsize=\"medium\")\n",
    "plt.show()"
   ]
  },
  {
   "cell_type": "markdown",
   "metadata": {},
   "source": [
    "### 3.1 Inference Attack 2 + 3 (Figure 1b)\n",
    "\n",
    "For this part, we only show the classification error of the last epoch since exact reproduction of the plots would require to train the models from scratch, which takes multiple hours."
   ]
  },
  {
   "cell_type": "code",
   "execution_count": 107,
   "metadata": {},
   "outputs": [],
   "source": [
    "%%capture\n",
    "pl.seed_everything(0)\n",
    "model = InferenceAttack2Model.load_from_checkpoint(os.path.join(inf_attack_path, inf_attack2_additional_path))\n",
    "result = trainer.test(model, datamodule=datamodules[\"CIFAR-100\"])"
   ]
  },
  {
   "cell_type": "code",
   "execution_count": 108,
   "metadata": {},
   "outputs": [
    {
     "name": "stdout",
     "output_type": "stream",
     "text": [
      "Final classification error of inference attack 2 for baseline with additional layer: 0.332\n"
     ]
    }
   ],
   "source": [
    "print(\"Final classification error of inference attack 2 for baseline with additional layer:\", round(1 - result[0][\"test_acc\"], 4))"
   ]
  },
  {
   "cell_type": "code",
   "execution_count": 109,
   "metadata": {},
   "outputs": [],
   "source": [
    "%%capture\n",
    "pl.seed_everything(0)\n",
    "model = InferenceAttack2Model.load_from_checkpoint(os.path.join(inf_attack_path, inf_attack2_complex_path))\n",
    "result = trainer.test(model, datamodule=datamodules[\"CIFAR-100\"])"
   ]
  },
  {
   "cell_type": "code",
   "execution_count": 110,
   "metadata": {},
   "outputs": [
    {
     "name": "stdout",
     "output_type": "stream",
     "text": [
      "Final classification error of inference attack 2 for complex network: 0.4144\n"
     ]
    }
   ],
   "source": [
    "print(\"Final classification error of inference attack 2 for complex network:\", round(1 - result[0][\"test_acc\"], 4))"
   ]
  },
  {
   "cell_type": "code",
   "execution_count": 111,
   "metadata": {},
   "outputs": [],
   "source": [
    "%%capture\n",
    "pl.seed_everything(0)\n",
    "model = InferenceAttack3Model.load_from_checkpoint(os.path.join(inf_attack_path, inf_attack3_additional_path))\n",
    "result = trainer.test(model, datamodule=datamodules[\"CIFAR-100\"])"
   ]
  },
  {
   "cell_type": "code",
   "execution_count": 112,
   "metadata": {},
   "outputs": [
    {
     "name": "stdout",
     "output_type": "stream",
     "text": [
      "Final classification error of inference attack 3 for baseline with additional layer: 0.356\n"
     ]
    }
   ],
   "source": [
    "print(\"Final classification error of inference attack 3 for baseline with additional layer:\", round(1 - result[0][\"test_acc\"], 4))"
   ]
  },
  {
   "cell_type": "code",
   "execution_count": 104,
   "metadata": {},
   "outputs": [],
   "source": [
    "%%capture\n",
    "pl.seed_everything(0)\n",
    "model = InferenceAttack3Model.load_from_checkpoint(os.path.join(inf_attack_path, inf_attack3_complex_path))\n",
    "result = trainer.test(model, datamodule=datamodules[\"CIFAR-100\"])"
   ]
  },
  {
   "cell_type": "code",
   "execution_count": 105,
   "metadata": {},
   "outputs": [
    {
     "name": "stdout",
     "output_type": "stream",
     "text": [
      "Final classification error of inference attack 3 for complex network: 0.432\n"
     ]
    }
   ],
   "source": [
    "print(\"Final classification error of inference attack 3 for complex network:\", round(1 - result[0][\"test_acc\"], 4))"
   ]
  }
 ],
 "metadata": {
  "kernelspec": {
   "display_name": "Python 3",
   "language": "python",
   "name": "python3"
  },
  "language_info": {
   "codemirror_mode": {
    "name": "ipython",
    "version": 3
   },
   "file_extension": ".py",
   "mimetype": "text/x-python",
   "name": "python",
   "nbconvert_exporter": "python",
   "pygments_lexer": "ipython3",
   "version": "3.8.5"
  }
 },
 "nbformat": 4,
 "nbformat_minor": 4
}
